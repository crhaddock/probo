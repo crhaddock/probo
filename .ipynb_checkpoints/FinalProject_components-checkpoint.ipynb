{
 "cells": [
  {
   "cell_type": "markdown",
   "metadata": {},
   "source": [
    "# Have:\n",
    "\n",
    "### Geometric Asian Call - Checks with book  \n",
    "### Geometric Asian Call Control Variate - Checks with book\n",
    "\n",
    "    \n",
    "# Need:\n",
    "\n",
    "### Integration with PROBO"
   ]
  },
  {
   "cell_type": "markdown",
   "metadata": {},
   "source": [
    "## Parameters"
   ]
  },
  {
   "cell_type": "code",
   "execution_count": 8,
   "metadata": {},
   "outputs": [],
   "source": [
    "# Parameters\n",
    "spot = 100\n",
    "strike = 100\n",
    "rate = 0.06\n",
    "vol = 0.2\n",
    "div = 0.03\n",
    "expiry = 1.0\n",
    "N = 10\n",
    "M = 100"
   ]
  },
  {
   "cell_type": "markdown",
   "metadata": {},
   "source": [
    "## Geometric Asian Call"
   ]
  },
  {
   "cell_type": "code",
   "execution_count": 161,
   "metadata": {},
   "outputs": [
    {
     "name": "stdout",
     "output_type": "stream",
     "text": [
      "5.342560663499434\n"
     ]
    }
   ],
   "source": [
    "import numpy as np\n",
    "from scipy.stats import norm\n",
    "\n",
    "\n",
    "\n",
    "def blackScholesCall(spot, strike, rate, vol, div, expiry):\n",
    "    d1 = (np.log(spot / strike) + (rate - div + 0.5 * vol * vol) * expiry) / (vol * np.sqrt(expiry))\n",
    "    d2 = d1 - vol * np.sqrt(expiry)\n",
    "    callPrice = (spot * np.exp(-div * expiry) * norm.cdf(d1)) - (strike * np.exp(-rate * expiry)  * norm.cdf(d2))\n",
    "    return callPrice\n",
    "\n",
    "def geometricAsianCall(spot, strike, rate, vol, div, expiry, N):\n",
    "    dt = expiry / N\n",
    "    nu = rate - div - 0.5 * vol * vol\n",
    "    a = N * (N+1) * (2.0 * N + 1.0) / 6.0\n",
    "    V = np.exp(-rate * expiry) * spot * np.exp(((N + 1.0) * nu / 2.0 + vol * vol * a / (2.0 * N * N)) * dt)\n",
    "    vavg = vol * np.sqrt(a) / pow(N, 1.5)\n",
    "    callPrice = blackScholesCall(V, strike, rate, vavg, 0, expiry)\n",
    "    return callPrice\n",
    "\n",
    "## Test Asian Call\n",
    "\n",
    "#callPrice = blackScholesCall(spot, strike, rate, vol, div, expiry)\n",
    "callPrice = geometricAsianCall(spot, strike, rate, vol, div, expiry, N)\n",
    "print(f\"{callPrice}\")"
   ]
  },
  {
   "cell_type": "markdown",
   "metadata": {},
   "source": [
    "## Control Variate"
   ]
  },
  {
   "cell_type": "code",
   "execution_count": 240,
   "metadata": {},
   "outputs": [],
   "source": [
    "import numpy as np\n",
    "from scipy.stats import norm\n",
    "from scipy.stats.mstats import gmean\n",
    "\n",
    "dt = expiry / N\n",
    "t = np.arange(0, expiry + dt, dt)\n",
    "\n",
    "nudt = np.zeros(N + 1)\n",
    "sigsdt = np.zeros(N + 1)\n",
    "\n",
    "# Precompute Constants\n",
    "for i in range(1, N + 1):\n",
    "    nudt[i] = (rate - div - 0.5 * vol * vol) * (t[i] - t[i - 1])\n",
    "    sigsdt[i] = vol * np.sqrt(t[i] - t[i-1])\n",
    "    \n",
    "sum_CT = 0 \n",
    "sum_CT2 = 0\n",
    "\n",
    "# M = 100\n",
    "# N = 10\n",
    "\n",
    "for j in range(1, M + 1):\n",
    "  # Reset for each simulation \n",
    "    St = spot\n",
    "    sumSt = 0\n",
    "    productSt = np.zeros(N + 1)\n",
    "    productSt[0] = 1\n",
    "    geom_productSt = np.zeros(N)\n",
    "\n",
    "  # Random Draws (Reset Each j)\n",
    "    epsilon = np.zeros(N+1)\n",
    "    epsilon = np.random.normal(size = N + 1)\n",
    "    epsilon[0] = 0\n",
    "\n",
    "    for i in range(1, N + 1):\n",
    "     # Simulate random change in St\n",
    "        St = St * np.exp(nudt[i] + sigsdt[i] * epsilon[i])\n",
    "        sumSt = sumSt + St\n",
    "        productSt[i] = St\n",
    "    \n",
    "    # Need to make new array for gmean that is N long\n",
    "    # To do this we must get rid of productSt[0] = 1\n",
    "    # and take only the values for productSt[1:N]\n",
    "    geom_productSt = productSt[1:N+1]\n",
    "\n",
    "    # Arithmetic Average\n",
    "    A = sumSt / N\n",
    "    \n",
    "    # Geometric Average\n",
    "    # Must use gmean function to prevent buffer overflow\n",
    "    G = gmean(geom_productSt)\n",
    "\n",
    "    \n",
    "    \n",
    "    CT = max(0, A - strike) - max(0, G - strike)\n",
    "    sum_CT = sum_CT + CT\n",
    "    sum_CT2 = sum_CT2 + CT*CT\n",
    "    \n",
    "    \n",
    "    portfolio_value = (sum_CT / M) * np.exp(-rate * expiry)\n",
    "    SD = np.sqrt((sum_CT2 - (sum_CT * (sum_CT / M))) * (np.exp(-2 * rate * expiry)) / (M - 1))\n",
    "    SE = SD / np.sqrt(M)\n",
    "    \n",
    "call_value = portfolio_value + geometricAsianCall(spot, strike, rate, vol, div, expiry, N)"
   ]
  },
  {
   "cell_type": "code",
   "execution_count": 241,
   "metadata": {},
   "outputs": [
    {
     "data": {
      "text/plain": [
       "5.554224533992625"
      ]
     },
     "execution_count": 241,
     "metadata": {},
     "output_type": "execute_result"
    }
   ],
   "source": [
    "call_value"
   ]
  },
  {
   "cell_type": "code",
   "execution_count": null,
   "metadata": {},
   "outputs": [],
   "source": []
  },
  {
   "cell_type": "code",
   "execution_count": null,
   "metadata": {},
   "outputs": [],
   "source": []
  },
  {
   "cell_type": "code",
   "execution_count": null,
   "metadata": {},
   "outputs": [],
   "source": []
  },
  {
   "cell_type": "code",
   "execution_count": null,
   "metadata": {},
   "outputs": [],
   "source": []
  },
  {
   "cell_type": "code",
   "execution_count": null,
   "metadata": {},
   "outputs": [],
   "source": []
  },
  {
   "cell_type": "code",
   "execution_count": null,
   "metadata": {},
   "outputs": [],
   "source": []
  },
  {
   "cell_type": "code",
   "execution_count": null,
   "metadata": {},
   "outputs": [],
   "source": []
  },
  {
   "cell_type": "code",
   "execution_count": null,
   "metadata": {},
   "outputs": [],
   "source": []
  },
  {
   "cell_type": "code",
   "execution_count": null,
   "metadata": {},
   "outputs": [],
   "source": []
  },
  {
   "cell_type": "code",
   "execution_count": null,
   "metadata": {},
   "outputs": [],
   "source": []
  },
  {
   "cell_type": "code",
   "execution_count": null,
   "metadata": {},
   "outputs": [],
   "source": []
  },
  {
   "cell_type": "code",
   "execution_count": 93,
   "metadata": {},
   "outputs": [],
   "source": []
  },
  {
   "cell_type": "code",
   "execution_count": null,
   "metadata": {},
   "outputs": [],
   "source": []
  },
  {
   "cell_type": "code",
   "execution_count": null,
   "metadata": {},
   "outputs": [],
   "source": []
  },
  {
   "cell_type": "code",
   "execution_count": null,
   "metadata": {},
   "outputs": [],
   "source": []
  },
  {
   "cell_type": "code",
   "execution_count": null,
   "metadata": {},
   "outputs": [],
   "source": []
  },
  {
   "cell_type": "code",
   "execution_count": null,
   "metadata": {},
   "outputs": [],
   "source": []
  },
  {
   "cell_type": "code",
   "execution_count": null,
   "metadata": {},
   "outputs": [],
   "source": []
  },
  {
   "cell_type": "code",
   "execution_count": null,
   "metadata": {},
   "outputs": [],
   "source": []
  },
  {
   "cell_type": "code",
   "execution_count": null,
   "metadata": {},
   "outputs": [],
   "source": []
  }
 ],
 "metadata": {
  "kernelspec": {
   "display_name": "Python 3",
   "language": "python",
   "name": "python3"
  },
  "language_info": {
   "codemirror_mode": {
    "name": "ipython",
    "version": 3
   },
   "file_extension": ".py",
   "mimetype": "text/x-python",
   "name": "python",
   "nbconvert_exporter": "python",
   "pygments_lexer": "ipython3",
   "version": "3.6.5"
  }
 },
 "nbformat": 4,
 "nbformat_minor": 2
}
